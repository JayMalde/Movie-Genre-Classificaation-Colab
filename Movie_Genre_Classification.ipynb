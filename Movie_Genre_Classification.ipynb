{
  "nbformat": 4,
  "nbformat_minor": 0,
  "metadata": {
    "colab": {
      "name": "Movie Genre Classification.ipynb",
      "provenance": [],
      "collapsed_sections": [],
      "authorship_tag": "ABX9TyMhTc9VI5t1LMXH/KLJ1guC",
      "include_colab_link": true
    },
    "kernelspec": {
      "display_name": "Python 3",
      "name": "python3"
    },
    "language_info": {
      "name": "python"
    }
  },
  "cells": [
    {
      "cell_type": "markdown",
      "metadata": {
        "id": "view-in-github",
        "colab_type": "text"
      },
      "source": [
        "<a href=\"https://colab.research.google.com/github/JayMalde/Movie-Genre-Classificaation-Colab/blob/main/Movie_Genre_Classification.ipynb\" target=\"_parent\"><img src=\"https://colab.research.google.com/assets/colab-badge.svg\" alt=\"Open In Colab\"/></a>"
      ]
    },
    {
      "cell_type": "markdown",
      "metadata": {
        "id": "9Zub1cKtd-j3"
      },
      "source": [
        "# **Movie Genre Classification**"
      ]
    },
    {
      "cell_type": "markdown",
      "metadata": {
        "id": "vmIJV5QEeMM0"
      },
      "source": [
        "## **Pre Preocessing**"
      ]
    },
    {
      "cell_type": "markdown",
      "metadata": {
        "id": "sRVnY16k57_b"
      },
      "source": [
        "importing libraries / Packages"
      ]
    },
    {
      "cell_type": "code",
      "metadata": {
        "id": "PPahKF2-pzfY"
      },
      "source": [
        "import numpy as np\n",
        "import pandas as pd"
      ],
      "execution_count": 3,
      "outputs": []
    },
    {
      "cell_type": "markdown",
      "metadata": {
        "id": "yeEKQmBe6Egs"
      },
      "source": [
        "loading the dataset"
      ]
    },
    {
      "cell_type": "code",
      "metadata": {
        "id": "ax6TtXljrpu2"
      },
      "source": [
        "df = pd.read_csv('/content/kaggle_movie_train.csv')"
      ],
      "execution_count": 4,
      "outputs": []
    },
    {
      "cell_type": "markdown",
      "metadata": {
        "id": "FFnwqITj6H5X"
      },
      "source": [
        "checking for column names"
      ]
    },
    {
      "cell_type": "code",
      "metadata": {
        "colab": {
          "base_uri": "https://localhost:8080/"
        },
        "id": "v09kCr4Orw2m",
        "outputId": "5ef129ff-a16f-4d3d-f7f1-3a2d795c1038"
      },
      "source": [
        "df.columns"
      ],
      "execution_count": 5,
      "outputs": [
        {
          "output_type": "execute_result",
          "data": {
            "text/plain": [
              "Index(['id', 'text', 'genre'], dtype='object')"
            ]
          },
          "metadata": {
            "tags": []
          },
          "execution_count": 5
        }
      ]
    },
    {
      "cell_type": "markdown",
      "metadata": {
        "id": "ElwV4Ngx6RtV"
      },
      "source": [
        "checking for number of rows & columns"
      ]
    },
    {
      "cell_type": "code",
      "metadata": {
        "colab": {
          "base_uri": "https://localhost:8080/"
        },
        "id": "tpTI4Hrdr1RF",
        "outputId": "4908720c-18c3-474e-bf7c-7e1b02fe27c3"
      },
      "source": [
        "df.shape"
      ],
      "execution_count": 6,
      "outputs": [
        {
          "output_type": "execute_result",
          "data": {
            "text/plain": [
              "(22579, 3)"
            ]
          },
          "metadata": {
            "tags": []
          },
          "execution_count": 6
        }
      ]
    },
    {
      "cell_type": "code",
      "metadata": {
        "colab": {
          "base_uri": "https://localhost:8080/",
          "height": 357
        },
        "id": "q15us_rUr3K0",
        "outputId": "44683782-e39c-47a0-8dc5-11cab7782d9a"
      },
      "source": [
        "df.head(10)"
      ],
      "execution_count": 7,
      "outputs": [
        {
          "output_type": "execute_result",
          "data": {
            "text/html": [
              "<div>\n",
              "<style scoped>\n",
              "    .dataframe tbody tr th:only-of-type {\n",
              "        vertical-align: middle;\n",
              "    }\n",
              "\n",
              "    .dataframe tbody tr th {\n",
              "        vertical-align: top;\n",
              "    }\n",
              "\n",
              "    .dataframe thead th {\n",
              "        text-align: right;\n",
              "    }\n",
              "</style>\n",
              "<table border=\"1\" class=\"dataframe\">\n",
              "  <thead>\n",
              "    <tr style=\"text-align: right;\">\n",
              "      <th></th>\n",
              "      <th>id</th>\n",
              "      <th>text</th>\n",
              "      <th>genre</th>\n",
              "    </tr>\n",
              "  </thead>\n",
              "  <tbody>\n",
              "    <tr>\n",
              "      <th>0</th>\n",
              "      <td>0</td>\n",
              "      <td>eady dead, maybe even wishing he was. INT. 2ND...</td>\n",
              "      <td>thriller</td>\n",
              "    </tr>\n",
              "    <tr>\n",
              "      <th>1</th>\n",
              "      <td>2</td>\n",
              "      <td>t, summa cum laude and all. And I'm about to l...</td>\n",
              "      <td>comedy</td>\n",
              "    </tr>\n",
              "    <tr>\n",
              "      <th>2</th>\n",
              "      <td>3</td>\n",
              "      <td>up Come, I have a surprise.... She takes him ...</td>\n",
              "      <td>drama</td>\n",
              "    </tr>\n",
              "    <tr>\n",
              "      <th>3</th>\n",
              "      <td>4</td>\n",
              "      <td>ded by the two detectives. INT. JEFF'S APARTME...</td>\n",
              "      <td>thriller</td>\n",
              "    </tr>\n",
              "    <tr>\n",
              "      <th>4</th>\n",
              "      <td>5</td>\n",
              "      <td>nd dismounts, just as the other children reach...</td>\n",
              "      <td>drama</td>\n",
              "    </tr>\n",
              "    <tr>\n",
              "      <th>5</th>\n",
              "      <td>6</td>\n",
              "      <td>breadth of the bluff. Gabe pulls out his ancie...</td>\n",
              "      <td>thriller</td>\n",
              "    </tr>\n",
              "    <tr>\n",
              "      <th>6</th>\n",
              "      <td>7</td>\n",
              "      <td>uilding. A MAN in pajamas runs out into the ra...</td>\n",
              "      <td>thriller</td>\n",
              "    </tr>\n",
              "    <tr>\n",
              "      <th>7</th>\n",
              "      <td>9</td>\n",
              "      <td>ELLES AND RITA HAYWORTH Just disgustingly rich...</td>\n",
              "      <td>drama</td>\n",
              "    </tr>\n",
              "    <tr>\n",
              "      <th>8</th>\n",
              "      <td>10</td>\n",
              "      <td>Memphis goes back into the garage, Budgy cack...</td>\n",
              "      <td>thriller</td>\n",
              "    </tr>\n",
              "    <tr>\n",
              "      <th>9</th>\n",
              "      <td>11</td>\n",
              "      <td>e reels as the world spins. Sweat pours off hi...</td>\n",
              "      <td>action</td>\n",
              "    </tr>\n",
              "  </tbody>\n",
              "</table>\n",
              "</div>"
            ],
            "text/plain": [
              "   id                                               text     genre\n",
              "0   0  eady dead, maybe even wishing he was. INT. 2ND...  thriller\n",
              "1   2  t, summa cum laude and all. And I'm about to l...    comedy\n",
              "2   3   up Come, I have a surprise.... She takes him ...     drama\n",
              "3   4  ded by the two detectives. INT. JEFF'S APARTME...  thriller\n",
              "4   5  nd dismounts, just as the other children reach...     drama\n",
              "5   6  breadth of the bluff. Gabe pulls out his ancie...  thriller\n",
              "6   7  uilding. A MAN in pajamas runs out into the ra...  thriller\n",
              "7   9  ELLES AND RITA HAYWORTH Just disgustingly rich...     drama\n",
              "8  10   Memphis goes back into the garage, Budgy cack...  thriller\n",
              "9  11  e reels as the world spins. Sweat pours off hi...    action"
            ]
          },
          "metadata": {
            "tags": []
          },
          "execution_count": 7
        }
      ]
    },
    {
      "cell_type": "markdown",
      "metadata": {
        "id": "TP6BilQa6XpE"
      },
      "source": [
        "Finding any NaN values"
      ]
    },
    {
      "cell_type": "code",
      "metadata": {
        "colab": {
          "base_uri": "https://localhost:8080/"
        },
        "id": "7SfE7OimfUnh",
        "outputId": "1f8ed6eb-9fe3-47af-be8f-5255773385f5"
      },
      "source": [
        "df.isna().any()"
      ],
      "execution_count": 8,
      "outputs": [
        {
          "output_type": "execute_result",
          "data": {
            "text/plain": [
              "id       False\n",
              "text     False\n",
              "genre    False\n",
              "dtype: bool"
            ]
          },
          "metadata": {
            "tags": []
          },
          "execution_count": 8
        }
      ]
    },
    {
      "cell_type": "markdown",
      "metadata": {
        "id": "RvD0pQEW6aZH"
      },
      "source": [
        "Importing libraries for visualization"
      ]
    },
    {
      "cell_type": "code",
      "metadata": {
        "id": "WfCbX--kr5MS"
      },
      "source": [
        "import matplotlib.pyplot as plt\n",
        "import seaborn as sns\n",
        "%matplotlib inline"
      ],
      "execution_count": 9,
      "outputs": []
    },
    {
      "cell_type": "markdown",
      "metadata": {
        "id": "-pCpmY_i6fWM"
      },
      "source": [
        "visualizing the count of 'genre' column from the dataset"
      ]
    },
    {
      "cell_type": "code",
      "metadata": {
        "colab": {
          "base_uri": "https://localhost:8080/",
          "height": 621
        },
        "id": "TK_LzlHer7rF",
        "outputId": "725dc238-014f-43ab-cb14-91260fcf448a"
      },
      "source": [
        "plt.figure(figsize=(11,10))\n",
        "sns.countplot(x='genre', data=df)\n",
        "plt.xlabel('Movie Genres')\n",
        "plt.ylabel('Count')\n",
        "plt.title('Genre Plot')\n",
        "plt.show()"
      ],
      "execution_count": 10,
      "outputs": [
        {
          "output_type": "display_data",
          "data": {
            "image/png": "[encoded data removed]",
            "text/plain": [
              "<Figure size 792x720 with 1 Axes>"
            ]
          },
          "metadata": {
            "tags": [],
            "needs_background": "light"
          }
        }
      ]
    },
    {
      "cell_type": "markdown",
      "metadata": {
        "id": "rSjgO_9j6omz"
      },
      "source": [
        "finding unique genres"
      ]
    },
    {
      "cell_type": "code",
      "metadata": {
        "colab": {
          "base_uri": "https://localhost:8080/"
        },
        "id": "8KmIUC4vr9X8",
        "outputId": "63985d68-5690-46b7-c05a-cc128b30d9aa"
      },
      "source": [
        "movie_genre = list(df['genre'].unique())\n",
        "movie_genre"
      ],
      "execution_count": 11,
      "outputs": [
        {
          "output_type": "execute_result",
          "data": {
            "text/plain": [
              "['thriller',\n",
              " 'comedy',\n",
              " 'drama',\n",
              " 'action',\n",
              " 'sci-fi',\n",
              " 'other',\n",
              " 'romance',\n",
              " 'horror',\n",
              " 'adventure']"
            ]
          },
          "metadata": {
            "tags": []
          },
          "execution_count": 11
        }
      ]
    },
    {
      "cell_type": "markdown",
      "metadata": {
        "id": "aE1Dyg_B6tNw"
      },
      "source": [
        "Mapping the genres to values"
      ]
    },
    {
      "cell_type": "code",
      "metadata": {
        "colab": {
          "base_uri": "https://localhost:8080/",
          "height": 357
        },
        "id": "TaspzdrosiVZ",
        "outputId": "d406a098-4bc9-4ad8-cb5a-39022a338640"
      },
      "source": [
        "genre_mapper = {'other': 0, 'action': 1, 'adventure': 2, 'comedy':3, 'drama':4, 'horror':5, 'romance':6, 'sci-fi':7, 'thriller': 8}\n",
        "df['genre'] = df['genre'].map(genre_mapper)\n",
        "df.head(10)"
      ],
      "execution_count": 12,
      "outputs": [
        {
          "output_type": "execute_result",
          "data": {
            "text/html": [
              "<div>\n",
              "<style scoped>\n",
              "    .dataframe tbody tr th:only-of-type {\n",
              "        vertical-align: middle;\n",
              "    }\n",
              "\n",
              "    .dataframe tbody tr th {\n",
              "        vertical-align: top;\n",
              "    }\n",
              "\n",
              "    .dataframe thead th {\n",
              "        text-align: right;\n",
              "    }\n",
              "</style>\n",
              "<table border=\"1\" class=\"dataframe\">\n",
              "  <thead>\n",
              "    <tr style=\"text-align: right;\">\n",
              "      <th></th>\n",
              "      <th>id</th>\n",
              "      <th>text</th>\n",
              "      <th>genre</th>\n",
              "    </tr>\n",
              "  </thead>\n",
              "  <tbody>\n",
              "    <tr>\n",
              "      <th>0</th>\n",
              "      <td>0</td>\n",
              "      <td>eady dead, maybe even wishing he was. INT. 2ND...</td>\n",
              "      <td>8</td>\n",
              "    </tr>\n",
              "    <tr>\n",
              "      <th>1</th>\n",
              "      <td>2</td>\n",
              "      <td>t, summa cum laude and all. And I'm about to l...</td>\n",
              "      <td>3</td>\n",
              "    </tr>\n",
              "    <tr>\n",
              "      <th>2</th>\n",
              "      <td>3</td>\n",
              "      <td>up Come, I have a surprise.... She takes him ...</td>\n",
              "      <td>4</td>\n",
              "    </tr>\n",
              "    <tr>\n",
              "      <th>3</th>\n",
              "      <td>4</td>\n",
              "      <td>ded by the two detectives. INT. JEFF'S APARTME...</td>\n",
              "      <td>8</td>\n",
              "    </tr>\n",
              "    <tr>\n",
              "      <th>4</th>\n",
              "      <td>5</td>\n",
              "      <td>nd dismounts, just as the other children reach...</td>\n",
              "      <td>4</td>\n",
              "    </tr>\n",
              "    <tr>\n",
              "      <th>5</th>\n",
              "      <td>6</td>\n",
              "      <td>breadth of the bluff. Gabe pulls out his ancie...</td>\n",
              "      <td>8</td>\n",
              "    </tr>\n",
              "    <tr>\n",
              "      <th>6</th>\n",
              "      <td>7</td>\n",
              "      <td>uilding. A MAN in pajamas runs out into the ra...</td>\n",
              "      <td>8</td>\n",
              "    </tr>\n",
              "    <tr>\n",
              "      <th>7</th>\n",
              "      <td>9</td>\n",
              "      <td>ELLES AND RITA HAYWORTH Just disgustingly rich...</td>\n",
              "      <td>4</td>\n",
              "    </tr>\n",
              "    <tr>\n",
              "      <th>8</th>\n",
              "      <td>10</td>\n",
              "      <td>Memphis goes back into the garage, Budgy cack...</td>\n",
              "      <td>8</td>\n",
              "    </tr>\n",
              "    <tr>\n",
              "      <th>9</th>\n",
              "      <td>11</td>\n",
              "      <td>e reels as the world spins. Sweat pours off hi...</td>\n",
              "      <td>1</td>\n",
              "    </tr>\n",
              "  </tbody>\n",
              "</table>\n",
              "</div>"
            ],
            "text/plain": [
              "   id                                               text  genre\n",
              "0   0  eady dead, maybe even wishing he was. INT. 2ND...      8\n",
              "1   2  t, summa cum laude and all. And I'm about to l...      3\n",
              "2   3   up Come, I have a surprise.... She takes him ...      4\n",
              "3   4  ded by the two detectives. INT. JEFF'S APARTME...      8\n",
              "4   5  nd dismounts, just as the other children reach...      4\n",
              "5   6  breadth of the bluff. Gabe pulls out his ancie...      8\n",
              "6   7  uilding. A MAN in pajamas runs out into the ra...      8\n",
              "7   9  ELLES AND RITA HAYWORTH Just disgustingly rich...      4\n",
              "8  10   Memphis goes back into the garage, Budgy cack...      8\n",
              "9  11  e reels as the world spins. Sweat pours off hi...      1"
            ]
          },
          "metadata": {
            "tags": []
          },
          "execution_count": 12
        }
      ]
    },
    {
      "cell_type": "markdown",
      "metadata": {
        "id": "l5PhKRl46y4Z"
      },
      "source": [
        "removing the 'id' column"
      ]
    },
    {
      "cell_type": "code",
      "metadata": {
        "colab": {
          "base_uri": "https://localhost:8080/"
        },
        "id": "6kqfM1A0snqt",
        "outputId": "2af65141-a888-4b8f-8579-1dd2d5bd238b"
      },
      "source": [
        "df.drop('id', axis=1, inplace=True)\n",
        "df.columns"
      ],
      "execution_count": 13,
      "outputs": [
        {
          "output_type": "execute_result",
          "data": {
            "text/plain": [
              "Index(['text', 'genre'], dtype='object')"
            ]
          },
          "metadata": {
            "tags": []
          },
          "execution_count": 13
        }
      ]
    },
    {
      "cell_type": "markdown",
      "metadata": {
        "id": "zGPvYubS63wm"
      },
      "source": [
        "## **NLP**"
      ]
    },
    {
      "cell_type": "markdown",
      "metadata": {
        "id": "rkSQvYeH673n"
      },
      "source": [
        "Importing libraries for performing Natural Language Processing"
      ]
    },
    {
      "cell_type": "markdown",
      "metadata": {
        "id": "d20YME9I7HaV"
      },
      "source": [
        "Downloading stopwords : - words which have no meaning by itself"
      ]
    },
    {
      "cell_type": "code",
      "metadata": {
        "colab": {
          "base_uri": "https://localhost:8080/"
        },
        "id": "4tp5Xo9Ysp_J",
        "outputId": "a5169ee1-ffc7-4da7-c889-72a35ad8e8cc"
      },
      "source": [
        "import nltk # pip install nltk\n",
        "import re\n",
        "nltk.download('stopwords')\n",
        "from nltk.corpus import stopwords\n",
        "from nltk.stem.porter import PorterStemmer"
      ],
      "execution_count": 14,
      "outputs": [
        {
          "output_type": "stream",
          "text": [
            "[nltk_data] Downloading package stopwords to /root/nltk_data...\n",
            "[nltk_data]   Unzipping corpora/stopwords.zip.\n"
          ],
          "name": "stdout"
        }
      ]
    },
    {
      "cell_type": "code",
      "metadata": {
        "colab": {
          "base_uri": "https://localhost:8080/"
        },
        "id": "YowWcAtBssBe",
        "outputId": "e9a8fab1-8b62-4b3a-b3c8-a453a0cd3c50"
      },
      "source": [
        "df.shape"
      ],
      "execution_count": 15,
      "outputs": [
        {
          "output_type": "execute_result",
          "data": {
            "text/plain": [
              "(22579, 2)"
            ]
          },
          "metadata": {
            "tags": []
          },
          "execution_count": 15
        }
      ]
    },
    {
      "cell_type": "markdown",
      "metadata": {
        "id": "OOpvYPSc7VT-"
      },
      "source": [
        "Removing stopwords, special characters, converting to lowercase,  stemming, etc."
      ]
    },
    {
      "cell_type": "code",
      "metadata": {
        "id": "S18t6l98sv-3"
      },
      "source": [
        "corpus = []\n",
        "ps = PorterStemmer()\n",
        "\n",
        "for i in range(0, df.shape[0]):\n",
        "\n",
        "  # Cleaning special character from the dialog/script\n",
        "  dialog = re.sub(pattern='[^a-zA-Z]', repl=' ', string=df['text'][i])\n",
        "\n",
        "  # Converting the entire dialog/script into lower case\n",
        "  dialog = dialog.lower()\n",
        "\n",
        "  # Tokenizing the dialog/script by words \n",
        "  # converting string into an n dimensional array of words\n",
        "  words = dialog.split()\n",
        "\n",
        "  # Removing the stop words\n",
        "  # for eg :- not\n",
        "  dialog_words = [word for word in words if word not in set(stopwords.words('english'))]\n",
        "\n",
        "  # Stemming the words \n",
        "  # for eg :- replacing loving into original word love\n",
        "  words = [ps.stem(word) for word in dialog_words]\n",
        "\n",
        "  # Joining the stemmed words\n",
        "  dialog = ' '.join(words)\n",
        "\n",
        "  # Creating a collection of cleaned data\n",
        "  corpus.append(dialog)"
      ],
      "execution_count": 16,
      "outputs": []
    },
    {
      "cell_type": "markdown",
      "metadata": {
        "id": "YF4ccT3y8Do0"
      },
      "source": [
        "After NLP Process"
      ]
    },
    {
      "cell_type": "code",
      "metadata": {
        "colab": {
          "base_uri": "https://localhost:8080/"
        },
        "id": "iy2XJbvIsyNv",
        "outputId": "d456b01b-bd73-4ea3-dff0-4856a8d373e6"
      },
      "source": [
        "corpus[0:10]"
      ],
      "execution_count": 17,
      "outputs": [
        {
          "output_type": "execute_result",
          "data": {
            "text/plain": [
              "['eadi dead mayb even wish int nd floor hallway three night orderli lead liza door orderli white guy open door step room three white guy mid look wild straight jacket jerri liza reach end rope shake head int decrepit hospit room night ball fetal realli head press cement tri sing jerri blue moon blue moon int nd floor hallway three night liza stand lean rail wall orderli sure go know bad orderli okay liza start hall orderli follow orderli got new patient last week want see liza wave hopeless stop chicken wire window end hall look light break jerri somewher orderli look gotta get back work',\n",
              " 'summa cum laud launch brand new magazin call expos homag miss juli conroy xenia ohio juli grin juli know find excel editor chief ted yellow page juli let finger walk suddenli music chang peopl ted grin ted play song extend hand dare ask danc juli take hand better ted juli begin danc kiss b g charli jimmi feign tear charli sucker happi end hug jimmi hold start rise nelson hous cloud xenia ted v guess everybodi pretti much live happili ever parent give groceri store descend cloud quickli find ext london buckingham palac day mom dad take pictur smooch front palac ted v manag sneak away second honeymoon',\n",
              " 'come surpris take hand lead hallway salvator look feel pang seem smaller age wither bodi slightli stoop hair gather knot back head must tire want rest time funer salvator interrupt mamma take hour air know maria smile iron tell year salvator get messag feel guilti think seem incred never come maria open door step asid let son whisper put thing go go salvator lake step flabbergast sight old room perfectli reconstruct preserv look like museum museum past despit bed cloth cupboard book shelv perfectli clear one ever live',\n",
              " 'ded two detect int jeff apart night medium shot thorwald fight dislodg jeff grip ext jeff apart night close shot look jeff face show strain pain thorwald attack brick floor patio seem hundr feet int jeff apart night medium shot thorwald jeff struggl ext neighborhood night semi close shot doyl pull top wall lisa stella two men look lisa white face frighten int jeff apart night medium shot thorwald smash jeff arm hand jeff grip begin slip ext neighborhood night semi close shot doyl reach top wall look jeff ext neighborhood night medium long shot jeff seen doyl angl hang somehow weather thorwald insan attack ext neighborhood night semi close shot doyl reach servic revolv look call one dete',\n",
              " 'nd dismount children reach throw arm embrac charlott hurri behind martin lock eye envelop hug children ext fresh water plantat even summer oak tree cover leav martin hous partial rebuilt habit workshop alreadi complet martin children nathan samuel margaret william play tall grass front hous two great dane charlott sit front porch nurs infant martin walk workshop trail susan carri complet rock chair chair work art thin light spider web perfectli turn wood nail glue step onto porch next charlott place rock chair next martin two pound fourteen ounc charlott love smile make minut adjust chair posit sit settl back',\n",
              " 'breadth bluff gabe pull ancient binocular scan crack gabe pov crack pictur mine shaft design madman crack move upward errat side straight width crack uneven rang six inch six feet look outsid gabe turn binocular insid crack look crack goe way bluff rout gabe tunnel mountain instead go side gabe get side jessi gone far right think better shape gabe simpl ye would done jessi want lead gabe cute ext top bluff day vista point see everyth els mountain rang thing taller tower two mountain lie drop mere four thousand feet qualen said way across h',\n",
              " 'uild man pajama run rain cabbi lose grip bumper terrenc jerk closer sewer man grab cabbi hand pull resid gather sidewalk polic car siren approach someth give man pajama fall backward puddl small crowd look see terrenc pull free hole moan semi conscious move bodi past bleed stump leg use follow blood swirl eddi rain water flow black storm drain cut fierc bull charg matador red muletta snort blood crowd goe wild bull fight arena blaze spanish sun camera dolli past cheer spaniard find small group american student earli twenti gord man believ paid good money watch guy tight pant kill cow sherri disgust make',\n",
              " 'ell rita hayworth disgustingli rich well make money make quick start littl war think slick smother sabl like betti grabl disgustingli rich build castl cost passel resid pan presid aspir higher higher get marri buy girl darn pretti head swirl rita hayworth swim highbal stew eyebal well rita hayworth disgustingli rich well rita hayworth chorin nifti soft shoe turn schaefer turn mank schaefer serious truli care ever work mank yeah swell well rita hayworth conclud littl danc break well resum song well ev ry summer sail sea littl yacht normandi pet littl dachshund friend kiss louella big rear end disgustingli rich louella storm eat salmon play ba',\n",
              " 'memphi goe back garag budgi cackl cut ext rancho palo verd busi district ford escort drive upscal street palo verd three kid insid driver freb littl dim back mirror man black alway wear mirror shade passeng seat kip memphi younger brother car pull stop fanci store close line affluent busi district freb consult piec paper freb corner hawthorn granvia tumbler mess said lotu would corner hawthorn granvia kip mess point corner build exot motor ltd twenti foot high glass window surround showroom exot dream car porsch ferrari lamborghini berton lotu esprit v gleam night showroom light freb mirror man startl freb mirror man shittin',\n",
              " 'e reel world spin sweat pour pressur build insid skull brain put centrifug neo believ believ cypher go pop vomit violent neo pitch forward black int neo room blink regain conscious room dark neo stretch bed neo go back morpheu sit like shadow chair far corner morpheu could would realli want deep neo know answer morpheu feel owe apolog rule free mind reach certain age danger troubl let go mind turn seen happen broke rule stare dark confess much neo morpheu matrix first built man born insid abil chang want remak mat']"
            ]
          },
          "metadata": {
            "tags": []
          },
          "execution_count": 17
        }
      ]
    },
    {
      "cell_type": "markdown",
      "metadata": {
        "id": "21YQTum_8Kqt"
      },
      "source": [
        "getting rows where genre is 4 or drama\n"
      ]
    },
    {
      "cell_type": "code",
      "metadata": {
        "colab": {
          "base_uri": "https://localhost:8080/"
        },
        "id": "gtl3-8T1s0-P",
        "outputId": "95242cc7-1d77-4991-fdfa-91ac371f5661"
      },
      "source": [
        "df[df['genre']==4].index"
      ],
      "execution_count": 18,
      "outputs": [
        {
          "output_type": "execute_result",
          "data": {
            "text/plain": [
              "Int64Index([    2,     4,     7,    10,    11,    12,    13,    14,    15,\n",
              "               16,\n",
              "            ...\n",
              "            22553, 22560, 22561, 22563, 22564, 22567, 22568, 22571, 22574,\n",
              "            22575],\n",
              "           dtype='int64', length=8873)"
            ]
          },
          "metadata": {
            "tags": []
          },
          "execution_count": 18
        }
      ]
    },
    {
      "cell_type": "code",
      "metadata": {
        "colab": {
          "base_uri": "https://localhost:8080/"
        },
        "id": "X70dRxZHs3jE",
        "outputId": "77268081-6257-480a-a434-407fbb16e491"
      },
      "source": [
        "len(corpus)"
      ],
      "execution_count": 19,
      "outputs": [
        {
          "output_type": "execute_result",
          "data": {
            "text/plain": [
              "22579"
            ]
          },
          "metadata": {
            "tags": []
          },
          "execution_count": 19
        }
      ]
    },
    {
      "cell_type": "markdown",
      "metadata": {
        "id": "MvDlg8bWeRkJ"
      },
      "source": [
        "## **Splitting Data**"
      ]
    },
    {
      "cell_type": "markdown",
      "metadata": {
        "id": "yRrboy5M-N9V"
      },
      "source": [
        "**Bag Of Words** conveting unique words in the corpus into numeric values upto 10000 "
      ]
    },
    {
      "cell_type": "code",
      "metadata": {
        "id": "u2UCF1hss9xq"
      },
      "source": [
        "from sklearn.feature_extraction.text import CountVectorizer\n",
        "cv = CountVectorizer(max_features=10000)\n",
        "X = cv.fit_transform(corpus).toarray()"
      ],
      "execution_count": 20,
      "outputs": []
    },
    {
      "cell_type": "markdown",
      "metadata": {
        "id": "oZOWPECQ-ULY"
      },
      "source": [
        "Adding genre column values as y"
      ]
    },
    {
      "cell_type": "code",
      "metadata": {
        "id": "JTQfkKT8tANa"
      },
      "source": [
        "y = df['genre'].values"
      ],
      "execution_count": 21,
      "outputs": []
    },
    {
      "cell_type": "markdown",
      "metadata": {
        "id": "3SCNsxcx-fwL"
      },
      "source": [
        "splitting x,y data into train & test dataset"
      ]
    },
    {
      "cell_type": "code",
      "metadata": {
        "colab": {
          "base_uri": "https://localhost:8080/"
        },
        "id": "ZHmKxPbGtOTK",
        "outputId": "586c4d74-415f-40b3-ea25-89355466c24d"
      },
      "source": [
        "from sklearn.model_selection import train_test_split\n",
        "X_train, X_test, y_train, y_test = train_test_split(X, y, test_size=0.20, random_state=0)\n",
        "print('X_train size: {}, X_test size: {}'.format(X_train.shape, X_test.shape))"
      ],
      "execution_count": 22,
      "outputs": [
        {
          "output_type": "stream",
          "text": [
            "X_train size: (18063, 10000), X_test size: (4516, 10000)\n"
          ],
          "name": "stdout"
        }
      ]
    },
    {
      "cell_type": "markdown",
      "metadata": {
        "id": "30vyyemJeYOd"
      },
      "source": [
        "## **Comparing Accuracy Percantege of Various Models**"
      ]
    },
    {
      "cell_type": "code",
      "metadata": {
        "colab": {
          "base_uri": "https://localhost:8080/"
        },
        "id": "iIjAv_HXwCU9",
        "outputId": "0e0f54ba-c048-4667-c76d-abbff54eae68"
      },
      "source": [
        "from sklearn.naive_bayes import GaussianNB\n",
        "nb1_classifier = GaussianNB()\n",
        "nb1_classifier.fit(X_train, y_train)"
      ],
      "execution_count": 23,
      "outputs": [
        {
          "output_type": "execute_result",
          "data": {
            "text/plain": [
              "GaussianNB(priors=None, var_smoothing=1e-09)"
            ]
          },
          "metadata": {
            "tags": []
          },
          "execution_count": 23
        }
      ]
    },
    {
      "cell_type": "code",
      "metadata": {
        "colab": {
          "base_uri": "https://localhost:8080/"
        },
        "id": "Jsb-srfIwcrL",
        "outputId": "80e27518-a9d9-4800-f297-ad0df6e59944"
      },
      "source": [
        "from sklearn.metrics import accuracy_score\n",
        "nb_y_pred1 = nb1_classifier.predict(X_test)\n",
        "score1 = accuracy_score(y_test, nb_y_pred1)\n",
        "print(\"---- Score ----\")\n",
        "print(\"Accuracy score is: {}%\".format(round(score1*100,2)))"
      ],
      "execution_count": null,
      "outputs": [
        {
          "output_type": "stream",
          "text": [
            "---- Score ----\n",
            "Accuracy score is: 78.65%\n"
          ],
          "name": "stdout"
        }
      ]
    },
    {
      "cell_type": "code",
      "metadata": {
        "id": "34y9rLDUwvG2"
      },
      "source": [
        "from sklearn.ensemble import RandomForestClassifier\n",
        "rfc_classifier = RandomForestClassifier(n_estimators=40)\n",
        "rfc_classifier.fit(X_train, y_train)"
      ],
      "execution_count": null,
      "outputs": []
    },
    {
      "cell_type": "code",
      "metadata": {
        "colab": {
          "base_uri": "https://localhost:8080/"
        },
        "id": "wUnorY88xKu1",
        "outputId": "5d054bb1-99b6-4da1-e26e-b036a4d1b77e"
      },
      "source": [
        "rfc_y_pred = rfc_classifier.predict(X_test)\n",
        "score3 = accuracy_score(y_test, rfc_y_pred)\n",
        "print(\"---- Score ----\")\n",
        "print(\"Accuracy score is: {}%\".format(round(score3*100,2)))"
      ],
      "execution_count": null,
      "outputs": [
        {
          "output_type": "stream",
          "text": [
            "---- Score ----\n",
            "Accuracy score is: 73.41%\n"
          ],
          "name": "stdout"
        }
      ]
    },
    {
      "cell_type": "code",
      "metadata": {
        "colab": {
          "base_uri": "https://localhost:8080/"
        },
        "id": "8Bw_lTViyV4D",
        "outputId": "04529917-f015-4471-8ee9-8ae054937697"
      },
      "source": [
        "from sklearn.tree import DecisionTreeClassifier\n",
        "dtc_classifier = DecisionTreeClassifier()\n",
        "dtc_classifier.fit(X_train, y_train)"
      ],
      "execution_count": null,
      "outputs": [
        {
          "output_type": "execute_result",
          "data": {
            "text/plain": [
              "DecisionTreeClassifier(ccp_alpha=0.0, class_weight=None, criterion='gini',\n",
              "                       max_depth=None, max_features=None, max_leaf_nodes=None,\n",
              "                       min_impurity_decrease=0.0, min_impurity_split=None,\n",
              "                       min_samples_leaf=1, min_samples_split=2,\n",
              "                       min_weight_fraction_leaf=0.0, presort='deprecated',\n",
              "                       random_state=None, splitter='best')"
            ]
          },
          "metadata": {
            "tags": []
          },
          "execution_count": 37
        }
      ]
    },
    {
      "cell_type": "code",
      "metadata": {
        "colab": {
          "base_uri": "https://localhost:8080/"
        },
        "id": "ruc399b4y_l7",
        "outputId": "cc6fe63b-2081-4740-da08-cf7606d3e6b0"
      },
      "source": [
        "dtc_y_pred = dtc_classifier.predict(X_test)\n",
        "score4 = accuracy_score(y_test, dtc_y_pred)\n",
        "print(\"---- Score ----\")\n",
        "print(\"Accuracy score is: {}%\".format(round(score4*100,2)))"
      ],
      "execution_count": null,
      "outputs": [
        {
          "output_type": "stream",
          "text": [
            "---- Score ----\n",
            "Accuracy score is: 73.67%\n"
          ],
          "name": "stdout"
        }
      ]
    },
    {
      "cell_type": "code",
      "metadata": {
        "colab": {
          "base_uri": "https://localhost:8080/"
        },
        "id": "DEg-1zA6zomQ",
        "outputId": "2d4f433b-07bf-41df-f062-1d3bd6076e7f"
      },
      "source": [
        "from sklearn.neighbors import KNeighborsClassifier\n",
        "knn_classifier = KNeighborsClassifier(n_neighbors=5)\n",
        "knn_classifier.fit(X_train, y_train)"
      ],
      "execution_count": null,
      "outputs": [
        {
          "output_type": "execute_result",
          "data": {
            "text/plain": [
              "KNeighborsClassifier(algorithm='auto', leaf_size=30, metric='minkowski',\n",
              "                     metric_params=None, n_jobs=None, n_neighbors=5, p=2,\n",
              "                     weights='uniform')"
            ]
          },
          "metadata": {
            "tags": []
          },
          "execution_count": 31
        }
      ]
    },
    {
      "cell_type": "code",
      "metadata": {
        "colab": {
          "base_uri": "https://localhost:8080/"
        },
        "id": "qAxNGfNTz3Ai",
        "outputId": "56f70529-e322-43ac-ac5e-4c51378d7dc5"
      },
      "source": [
        "knn_y_pred = knn_classifier.predict(X_test)\n",
        "from sklearn.metrics import accuracy_score\n",
        "score5 = accuracy_score(y_test, knn_y_pred)\n",
        "print(\"---- Score ----\")\n",
        "print(\"Accuracy score is: {}%\".format(round(score5*100,2)))"
      ],
      "execution_count": null,
      "outputs": [
        {
          "output_type": "stream",
          "text": [
            "---- Score ----\n",
            "Accuracy score is: 81.62%\n"
          ],
          "name": "stdout"
        }
      ]
    },
    {
      "cell_type": "markdown",
      "metadata": {
        "id": "A8H36beU_idH"
      },
      "source": [
        "Creating a Naive Bayes Model and Fitteing & Predicting"
      ]
    },
    {
      "cell_type": "code",
      "metadata": {
        "colab": {
          "base_uri": "https://localhost:8080/"
        },
        "id": "FvpNZtCvtQFg",
        "outputId": "e18d014d-62d6-40c4-8541-14d74c777950"
      },
      "source": [
        "from sklearn.naive_bayes import MultinomialNB\n",
        "nb_classifier = MultinomialNB()\n",
        "nb_classifier.fit(X_train, y_train)"
      ],
      "execution_count": 24,
      "outputs": [
        {
          "output_type": "execute_result",
          "data": {
            "text/plain": [
              "MultinomialNB(alpha=1.0, class_prior=None, fit_prior=True)"
            ]
          },
          "metadata": {
            "tags": []
          },
          "execution_count": 24
        }
      ]
    },
    {
      "cell_type": "code",
      "metadata": {
        "id": "YiWHcPlktRqd"
      },
      "source": [
        "nb_y_pred = nb_classifier.predict(X_test)"
      ],
      "execution_count": 25,
      "outputs": []
    },
    {
      "cell_type": "markdown",
      "metadata": {
        "id": "SvkeSrmS_u3b"
      },
      "source": [
        "Accuracy of Naive Bayes"
      ]
    },
    {
      "cell_type": "code",
      "metadata": {
        "id": "ZxfQhS5itTnd",
        "colab": {
          "base_uri": "https://localhost:8080/"
        },
        "outputId": "14e19b33-8381-4e3a-e1d4-56df9b2fa5fb"
      },
      "source": [
        "from sklearn.metrics import accuracy_score\n",
        "score = accuracy_score(y_test, nb_y_pred)\n",
        "print(\"---- Score ----\")\n",
        "print(\"Accuracy score is: {}%\".format(round(score*100,2)))"
      ],
      "execution_count": 26,
      "outputs": [
        {
          "output_type": "stream",
          "text": [
            "---- Score ----\n",
            "Accuracy score is: 90.26%\n"
          ],
          "name": "stdout"
        }
      ]
    },
    {
      "cell_type": "markdown",
      "metadata": {
        "id": "O_79M3QugKqi"
      },
      "source": [
        "Comparing Accuracy & Selecting One for Creating Model"
      ]
    },
    {
      "cell_type": "code",
      "metadata": {
        "id": "M26SzBMV0i3s",
        "colab": {
          "base_uri": "https://localhost:8080/",
          "height": 605
        },
        "outputId": "41f39cb8-d2d1-4931-9054-4eee92afe521"
      },
      "source": [
        "scores={\"GaussianNB\":79.76,\"RandomForestClassifier\":73.41,\"DecisionTreeClassifier\":73.67,\"KNearestNeighbors\":81.62,\"MultinomialNB\":89.57}\n",
        "scores_df=pd.DataFrame([scores])\n",
        "scores_df.plot(kind=\"bar\",figsize=(10,10))"
      ],
      "execution_count": 27,
      "outputs": [
        {
          "output_type": "execute_result",
          "data": {
            "text/plain": [
              "<matplotlib.axes._subplots.AxesSubplot at 0x7ff480e28e50>"
            ]
          },
          "metadata": {
            "tags": []
          },
          "execution_count": 27
        },
        {
          "output_type": "display_data",
          "data": {
            "image/png": "[encoded data removed]",
            "text/plain": [
              "<Figure size 720x720 with 1 Axes>"
            ]
          },
          "metadata": {
            "tags": [],
            "needs_background": "light"
          }
        }
      ]
    },
    {
      "cell_type": "markdown",
      "metadata": {
        "id": "C5IJE9vy_JpQ"
      },
      "source": [
        "Confusion Matrix of Naive Bayes"
      ]
    },
    {
      "cell_type": "code",
      "metadata": {
        "id": "J-VNbfGgtWm-"
      },
      "source": [
        "from sklearn.metrics import confusion_matrix\n",
        "nb_cm = confusion_matrix(y_test, nb_y_pred)"
      ],
      "execution_count": 28,
      "outputs": []
    },
    {
      "cell_type": "code",
      "metadata": {
        "id": "In9Ed-8rv6dD",
        "colab": {
          "base_uri": "https://localhost:8080/"
        },
        "outputId": "185819a1-f575-47ac-cfb9-fd63a0b5a875"
      },
      "source": [
        "nb_cm"
      ],
      "execution_count": 29,
      "outputs": [
        {
          "output_type": "execute_result",
          "data": {
            "text/plain": [
              "array([[  63,    1,    0,    0,    0,    2,    0,    0,    0],\n",
              "       [   0,  455,    1,    7,    3,    0,    0,    0,   10],\n",
              "       [   0,    1,   43,    0,    1,    0,    0,    0,    0],\n",
              "       [   0,    7,    0,  519,   15,    2,    0,    4,   12],\n",
              "       [   6,   38,    4,   43, 1604,   22,    3,   14,   93],\n",
              "       [   0,    1,    0,    2,    4,   73,    0,    0,    2],\n",
              "       [   0,    0,    0,    0,    0,    0,   11,    0,    0],\n",
              "       [   0,    3,    0,    1,    6,    0,    0,  116,    6],\n",
              "       [   0,    7,    0,   23,   66,   10,    1,   19, 1192]])"
            ]
          },
          "metadata": {
            "tags": []
          },
          "execution_count": 29
        }
      ]
    },
    {
      "cell_type": "code",
      "metadata": {
        "id": "BAfIkmJ_v8Ob",
        "colab": {
          "base_uri": "https://localhost:8080/",
          "height": 730
        },
        "outputId": "ee7538d0-4563-4a5a-fb7f-245f3873b0af"
      },
      "source": [
        "plt.figure(figsize=(15,12))\n",
        "axis_labels = ['other', 'action', 'adventure', 'comedy', 'drama', 'horror', 'romance', 'sci-fi', 'thriller']\n",
        "sns.heatmap(data=nb_cm, annot=True, cmap=\"Blues\", xticklabels=axis_labels, yticklabels=axis_labels)\n",
        "plt.xlabel('Predicted values')\n",
        "plt.ylabel('Actual values')\n",
        "plt.title('Confusion Matrix for Multinomial Naive Bayes Algorithm')\n",
        "plt.show()"
      ],
      "execution_count": 30,
      "outputs": [
        {
          "output_type": "display_data",
          "data": {
            "image/png": "[encoded data removed]",
            "text/plain": [
              "<Figure size 1080x864 with 2 Axes>"
            ]
          },
          "metadata": {
            "tags": [],
            "needs_background": "light"
          }
        }
      ]
    },
    {
      "cell_type": "code",
      "metadata": {
        "id": "JOe6u94Mft3x",
        "colab": {
          "base_uri": "https://localhost:8080/"
        },
        "outputId": "283a04a8-8cac-47d4-acab-7ee2399afddb"
      },
      "source": [
        "best_accuracy = 0.0\n",
        "alpha_val = 0.0\n",
        "for i in np.arange(0.1,1.1,0.1):\n",
        "  temp_classifier = MultinomialNB(alpha=i)\n",
        "  temp_classifier.fit(X_train, y_train)\n",
        "  temp_y_pred = temp_classifier.predict(X_test)\n",
        "  score = accuracy_score(y_test, temp_y_pred)\n",
        "  print(\"Accuracy score for alpha={} is: {}%\".format(round(i,1), round(score*100,2)))\n",
        "  if score>best_accuracy:\n",
        "    best_accuracy = score\n",
        "    alpha_val = i\n",
        "print('--------------------------------------------')\n",
        "print('The best accuracy is {}% with alpha value as {}'.format(round(best_accuracy*100, 2), round(alpha_val,1)))"
      ],
      "execution_count": 31,
      "outputs": [
        {
          "output_type": "stream",
          "text": [
            "Accuracy score for alpha=0.1 is: 92.18%\n",
            "Accuracy score for alpha=0.2 is: 91.92%\n",
            "Accuracy score for alpha=0.3 is: 91.54%\n",
            "Accuracy score for alpha=0.4 is: 91.23%\n",
            "Accuracy score for alpha=0.5 is: 91.01%\n",
            "Accuracy score for alpha=0.6 is: 90.77%\n",
            "Accuracy score for alpha=0.7 is: 90.52%\n",
            "Accuracy score for alpha=0.8 is: 90.43%\n",
            "Accuracy score for alpha=0.9 is: 90.3%\n",
            "Accuracy score for alpha=1.0 is: 90.26%\n",
            "--------------------------------------------\n",
            "The best accuracy is 92.18% with alpha value as 0.1\n"
          ],
          "name": "stdout"
        }
      ]
    },
    {
      "cell_type": "code",
      "metadata": {
        "id": "DuoGx687KlD4"
      },
      "source": [
        "classifier = MultinomialNB(alpha=0.1)\n",
        "classifier.fit(X_train, y_train)\n",
        "nb_y_pred1 = classifier.predict(X_test)"
      ],
      "execution_count": 32,
      "outputs": []
    },
    {
      "cell_type": "code",
      "metadata": {
        "id": "7FbpQVEMMEbY",
        "colab": {
          "base_uri": "https://localhost:8080/"
        },
        "outputId": "c71465a4-3d54-4b9e-b38a-ba19222faaef"
      },
      "source": [
        "score = accuracy_score(y_test, nb_y_pred1)\n",
        "print(\"---- Score ----\")\n",
        "print(\"Accuracy score is: {}%\".format(round(score*100,2)))"
      ],
      "execution_count": 33,
      "outputs": [
        {
          "output_type": "stream",
          "text": [
            "---- Score ----\n",
            "Accuracy score is: 92.18%\n"
          ],
          "name": "stdout"
        }
      ]
    },
    {
      "cell_type": "code",
      "metadata": {
        "id": "TAk1_9wCT4-4"
      },
      "source": [
        "# We can put our summary and predict genre \n",
        "description=input(\"Enter Movie Description\")"
      ],
      "execution_count": 44,
      "outputs": []
    },
    {
      "cell_type": "code",
      "metadata": {
        "id": "RYRYm8d6jTyt"
      },
      "source": [
        "desc_pred_value = classifier.predict(description)\n",
        "print(\"Predicted Genre is: \",desc_pred_value)"
      ],
      "execution_count": 44,
      "outputs": []
    },
    {
      "cell_type": "code",
      "metadata": {
        "id": "q-2prCQTd1nq"
      },
      "source": [
        ""
      ],
      "execution_count": null,
      "outputs": []
    }
  ]
}